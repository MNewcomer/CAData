{
 "cells": [
  {
   "cell_type": "markdown",
   "metadata": {},
   "source": [
    "# USGS Data Analysis Pre-and-Post Fire after the 2017 Wine Country Fires\n",
    "### Author: Dr. Michelle Newcomer, LBNL\n",
    "### Contact Info: mnewcomer@lbl.gov\n",
    "### Date: July 16, 2018"
   ]
  },
  {
   "cell_type": "code",
   "execution_count": 15,
   "metadata": {
    "collapsed": true
   },
   "outputs": [],
   "source": [
    "library(dataRetrieval)\n",
    "library(EGRET)\n",
    "library(zoo)\n",
    "library(leaflet)\n",
    "library(dplyr)\n",
    "library(ggplot2)\n",
    "library(htmlwidgets)\n",
    "library(IRdisplay)"
   ]
  },
  {
   "cell_type": "markdown",
   "metadata": {},
   "source": [
    "## Introduction"
   ]
  },
  {
   "cell_type": "markdown",
   "metadata": {},
   "source": [
    "Today we are going to explore the impact our the recent 2017 North Bay Wine Country wildfires on the health of the Russian River. The Russian River is a critical source of water for drinking water, riparian vegetation, ecosystem habitat, and food-web (fish and animals). The river also provides a critical source of water for agriculture, wineries, and recreation. Local populations use the River and watershed areas produced from it for fishing, recreation and over 600,000 residents use the filtered drinking water from the river every day. As scientists interested in the health of our local communities and environment, it is important we understand how climate conditions and natural disasters impact our resources. \n"
   ]
  },
  {
   "cell_type": "markdown",
   "metadata": {},
   "source": [
    "![Wine Country Fires](https://i.imgur.com/DqkOhjw.png)"
   ]
  },
  {
   "cell_type": "markdown",
   "metadata": {},
   "source": [
    "The full impact of these fires can be visualized with many online image and map sources. Drone imagery is available showing urban, sub-urban, and rural areas pre-and-post fire. Many portions of the Russian River and tributaries flow through these burned zones such as Mark West Creek in Santa Rosa, and the Northern Russian River in Ukiah, California. Below are some links to drone imagery, GIS data layers, and publically available USGS datasets.\n",
    "\n",
    "Drone Imagery: https://www.sonomasheriff.org/tubbscomplexlnu-fire-imagery\n",
    "GIS Layers: https://sonomalandtrust.maps.arcgis.com/apps/    \n",
    "Short link: https://arcg.is/1nqavf\n",
    "Data Source: https://maps.waterdata.usgs.gov/ \n"
   ]
  },
  {
   "cell_type": "markdown",
   "metadata": {},
   "source": [
    "## Our Research at LBNL"
   ]
  },
  {
   "cell_type": "markdown",
   "metadata": {},
   "source": [
    "\n",
    "In Oct. 2017, days after the fire started, my team and I at Lawrence Berkeley National Lab in collaboration with the Sonoma County Water Agency (http://www.scwa.ca.gov/) and our USGS-Boulder colleagues, launched the Sonoma County Post-Fire Water Quality Sampling Program to assess the potential for changes in river conditions after the fire. \n",
    "    \n",
    "More information about the program can be found at our website: http://newscenter.lbl.gov/2017/11/20/research-becomes-reality-in-study-of-fire-impact-on-sonoma-water-resources/\n"
   ]
  },
  {
   "cell_type": "markdown",
   "metadata": {},
   "source": [
    "![Berkeley Lab Sampling](https://i.imgur.com/72gLPcV.png)"
   ]
  },
  {
   "cell_type": "markdown",
   "metadata": {},
   "source": [
    "## USGS Data Analysis"
   ]
  },
  {
   "cell_type": "markdown",
   "metadata": {},
   "source": [
    "We are going to use the API functions built by the USGS to retrieve the publically available data automatically within this interactive Jupyter Notebook. We are going to choose a site that is downstream of the fire perimeters to look at how pH (a measure of acidity) has changed before and after the fire. All publically avaialble USGS data can be accessed directly through their site mapper https://maps.waterdata.usgs.gov/mapper/index.html. We provide an interactive method here to access this data within this notebook. \n",
    "\n"
   ]
  },
  {
   "cell_type": "markdown",
   "metadata": {},
   "source": [
    "## Functions to Interactively Retrieve Daily Data"
   ]
  },
  {
   "cell_type": "markdown",
   "metadata": {},
   "source": [
    "We are going to use functions to automatically retrieve the data using a few inputs such as parameter codes, starting and ending dates, and the site number. Highlight all of the code for the entire function and press run. Functions take these type of input values and provide output in a neat and organized format. \n"
   ]
  },
  {
   "cell_type": "code",
   "execution_count": 3,
   "metadata": {
    "collapsed": true
   },
   "outputs": [],
   "source": [
    "\n",
    "###############=======Functions to retrieve the daily data. Must be run as an entire cell============##########\n",
    "\n",
    "\n",
    "getFlowDaily<-function (siteNumber, parameterCd = \"00060\", startDate = \"\", endDate = \"\", interactive = TRUE, convert = TRUE,statCd) {\n",
    "  #statCd <- ifelse(\"00060\" == parameterCd, \"00003\", \"00001\")\n",
    "  url <- dataRetrieval::constructNWISURL(siteNumber, parameterCd, startDate, endDate, \"dv\", statCd, format = \"tsv\")\n",
    "  data <- dataRetrieval::importRDB1(url, asDateTime = FALSE)\n",
    "  if (nrow(data) > 0) {\n",
    "    names(data) <- c(\"agency\", \"site\", \"dateTime\", \"value\", \"code\")\n",
    "    data$dateTime <- as.Date(data$dateTime)\n",
    "  }\n",
    "  qConvert <- ifelse(\"00060\" == parameterCd, 35.314667, 1)\n",
    "  qConvert <- ifelse(convert, qConvert, 1)\n",
    "  indx<-which(is.na(data$value))\n",
    "  data$value[indx]<-(data$value[indx-2]+data$value[indx-3])/2\n",
    "  localDaily <- populateDaily(data, qConvert, interactive = interactive)\n",
    "  return(localDaily)\n",
    "}\n",
    "\n",
    "\n",
    "getWQDaily<-function (siteNumber, parameterCd = \"00060\", startDate = \"\", endDate = \"\", interactive = TRUE, convert = TRUE,statCd) {\n",
    "  statCd <- ifelse(\"00060\" == parameterCd, \"00003\", \"00001\")\n",
    "  url <- dataRetrieval::constructNWISURL(siteNumber, parameterCd, startDate, endDate, \"dv\", statCd = statCd, format = \"tsv\")\n",
    "  data <- dataRetrieval::importRDB1(url, asDateTime = FALSE)\n",
    "  indx<-nrow(data )\n",
    "  if(indx < 2) {\n",
    "    return(NA)\n",
    "  } else{names(data) <- c(\"agency\", \"site\", \"dateTime\", \"value\", \"code\")\n",
    "  data$dateTime <- as.Date(data$dateTime)\n",
    "  }\n",
    "  \n",
    "  if(\"63680\" == parameterCd){\n",
    "    data[is.na(data[,4]),4]<-as.numeric(data[is.na(data[,4]),6])\n",
    "  }\n",
    "  \n",
    "  data[,4]<-as.numeric(data[,4])\n",
    "  \n",
    "  \n",
    "  qConvert <- ifelse(\"00060\" == parameterCd, 35.314667, 1)\n",
    "  qConvert <- ifelse(convert, qConvert, 1)\n",
    "  data<-transform(data, value = na.locf(value)) #means last observation carried forward when NA found\n",
    "  indx<-which(data$value<0.01)\n",
    "  \n",
    "  if(length(indx)>1) {\n",
    "    data$value[indx]<-NA\n",
    "    data<-transform(data, value = na.locf(value)) #some Q is <0 so label as NA then used last observation\n",
    "  }else{data<-data}\n",
    "  \n",
    "  localDaily <- populateDaily(data, qConvert, interactive = FALSE)\n",
    "  localDaily$Day<-as.numeric(format.Date(localDaily$Date,format=\"%j\"))\n",
    "  return(localDaily)\n",
    "}\n",
    "\n",
    "\n",
    "\n",
    "##################=======End of Functions to retrieve the daily data============##########"
   ]
  },
  {
   "cell_type": "markdown",
   "metadata": {},
   "source": [
    "## Gather water quality data for the Guerneville Station"
   ]
  },
  {
   "cell_type": "markdown",
   "metadata": {},
   "source": [
    "Even though Guerneville is not directly inside a fire-perimeter, it is still a fire-impacted site because the watershed drains water from all of the fire-zones through streams and tributaries that eventually merge into the Russian River. Since Guerneville receives so much water that has traveled through these fire-impacted areas, the water qualtiy will reflect the history of its travel path.\n",
    "\n",
    "We will use the site called RUSSIAN R NR GUERNEVILLE CA  with site ID \"11467000\" \n",
    "\n",
    "Many variables are available at this station including discharge, temperature, pH, dissolved oxygen, and alkalinity.Here is the list of all United States Geological Survey (USGS) optional parameters: https://help.waterdata.usgs.gov/codes-and-parameters/parameters\n",
    "\n",
    "Click on the HTML for \"Physical parameters\" and find\tpH, water, unfiltered, field, standard units. Take note of the five-digit code for pH which is \"00400\". We will need this when we go to fetch our data.\n",
    "\n"
   ]
  },
  {
   "cell_type": "markdown",
   "metadata": {},
   "source": [
    "## Prepare input values"
   ]
  },
  {
   "cell_type": "code",
   "execution_count": 4,
   "metadata": {
    "collapsed": true
   },
   "outputs": [],
   "source": [
    "############################### Station 1: Gather water quality data and Prepare the input values:==============###########\n",
    "\n",
    "#Now we can fetch the specific data for pre and post-fire from Guerneville.\n",
    "\n",
    "# Specify the site #1: Fill in the ? with the site number for Guerneville\n",
    "siteID <- \"11467000\" #Guerneville, CA\n",
    "\n",
    "startDate <- \"\" #Gets earliest date 2009-06-01\n",
    "endDate <- \"2018-07-11\" #Gets data up until Jan 24 2018\n",
    "\n",
    "#### Specify the parameter code  for the water quality and fetch pH data: \n",
    "\n",
    "parameter_cd<-\"00400\" #5 digit USGS code for pH. Place number within quotes, no spaces\n",
    "\n",
    "\n"
   ]
  },
  {
   "cell_type": "markdown",
   "metadata": {},
   "source": [
    "## Fetch Data using the USGS API and our input values"
   ]
  },
  {
   "cell_type": "code",
   "execution_count": 5,
   "metadata": {
    "collapsed": true
   },
   "outputs": [],
   "source": [
    "#Fetch daily water quality data: pH \n",
    "DailypH_1 <- getWQDaily(siteID,parameter_cd,startDate,endDate)\n",
    "names(DailypH_1)<-c(\"Date\",\"pH\",\"Julian\",\"Month\",\"Day\",\"DecYear\",\"MonthSeq\",\"waterYear\",\"Qualifier\",\"i\",\"Log\",\"Q7\",\"Q30\")\n"
   ]
  },
  {
   "cell_type": "markdown",
   "metadata": {},
   "source": [
    "## Take a look at the data"
   ]
  },
  {
   "cell_type": "code",
   "execution_count": 6,
   "metadata": {},
   "outputs": [
    {
     "data": {
      "text/html": [
       "<table>\n",
       "<thead><tr><th scope=col>Date</th><th scope=col>pH</th><th scope=col>Julian</th><th scope=col>Month</th><th scope=col>Day</th><th scope=col>DecYear</th><th scope=col>MonthSeq</th><th scope=col>waterYear</th><th scope=col>Qualifier</th><th scope=col>i</th><th scope=col>Log</th><th scope=col>Q7</th><th scope=col>Q30</th></tr></thead>\n",
       "<tbody>\n",
       "\t<tr><td>2002-01-25</td><td>7.7       </td><td>55541     </td><td>1         </td><td>25        </td><td>2002.067  </td><td>1825      </td><td>2002      </td><td>A:[0]     </td><td>1         </td><td>2.041220  </td><td>NA        </td><td>NA        </td></tr>\n",
       "\t<tr><td>2002-01-26</td><td>7.9       </td><td>55542     </td><td>1         </td><td>26        </td><td>2002.070  </td><td>1825      </td><td>2002      </td><td>A:[0]     </td><td>2         </td><td>2.066863  </td><td>NA        </td><td>NA        </td></tr>\n",
       "\t<tr><td>2002-01-27</td><td>7.9       </td><td>55543     </td><td>1         </td><td>27        </td><td>2002.073  </td><td>1825      </td><td>2002      </td><td>A:[0]     </td><td>3         </td><td>2.066863  </td><td>NA        </td><td>NA        </td></tr>\n",
       "\t<tr><td>2002-01-28</td><td>7.9       </td><td>55544     </td><td>1         </td><td>28        </td><td>2002.075  </td><td>1825      </td><td>2002      </td><td>A:[0]     </td><td>4         </td><td>2.066863  </td><td>NA        </td><td>NA        </td></tr>\n",
       "\t<tr><td>2002-01-29</td><td>7.9       </td><td>55545     </td><td>1         </td><td>29        </td><td>2002.078  </td><td>1825      </td><td>2002      </td><td>A:[0]     </td><td>5         </td><td>2.066863  </td><td>NA        </td><td>NA        </td></tr>\n",
       "\t<tr><td>2002-01-30</td><td>7.9       </td><td>55546     </td><td>1         </td><td>30        </td><td>2002.081  </td><td>1825      </td><td>2002      </td><td>A:[0]     </td><td>6         </td><td>2.066863  </td><td>NA        </td><td>NA        </td></tr>\n",
       "</tbody>\n",
       "</table>\n"
      ],
      "text/latex": [
       "\\begin{tabular}{r|lllllllllllll}\n",
       " Date & pH & Julian & Month & Day & DecYear & MonthSeq & waterYear & Qualifier & i & Log & Q7 & Q30\\\\\n",
       "\\hline\n",
       "\t 2002-01-25 & 7.7        & 55541      & 1          & 25         & 2002.067   & 1825       & 2002       & A:{[}0{]}  & 1          & 2.041220   & NA         & NA        \\\\\n",
       "\t 2002-01-26 & 7.9        & 55542      & 1          & 26         & 2002.070   & 1825       & 2002       & A:{[}0{]}  & 2          & 2.066863   & NA         & NA        \\\\\n",
       "\t 2002-01-27 & 7.9        & 55543      & 1          & 27         & 2002.073   & 1825       & 2002       & A:{[}0{]}  & 3          & 2.066863   & NA         & NA        \\\\\n",
       "\t 2002-01-28 & 7.9        & 55544      & 1          & 28         & 2002.075   & 1825       & 2002       & A:{[}0{]}  & 4          & 2.066863   & NA         & NA        \\\\\n",
       "\t 2002-01-29 & 7.9        & 55545      & 1          & 29         & 2002.078   & 1825       & 2002       & A:{[}0{]}  & 5          & 2.066863   & NA         & NA        \\\\\n",
       "\t 2002-01-30 & 7.9        & 55546      & 1          & 30         & 2002.081   & 1825       & 2002       & A:{[}0{]}  & 6          & 2.066863   & NA         & NA        \\\\\n",
       "\\end{tabular}\n"
      ],
      "text/markdown": [
       "\n",
       "Date | pH | Julian | Month | Day | DecYear | MonthSeq | waterYear | Qualifier | i | Log | Q7 | Q30 | \n",
       "|---|---|---|---|---|---|\n",
       "| 2002-01-25 | 7.7        | 55541      | 1          | 25         | 2002.067   | 1825       | 2002       | A:[0]      | 1          | 2.041220   | NA         | NA         | \n",
       "| 2002-01-26 | 7.9        | 55542      | 1          | 26         | 2002.070   | 1825       | 2002       | A:[0]      | 2          | 2.066863   | NA         | NA         | \n",
       "| 2002-01-27 | 7.9        | 55543      | 1          | 27         | 2002.073   | 1825       | 2002       | A:[0]      | 3          | 2.066863   | NA         | NA         | \n",
       "| 2002-01-28 | 7.9        | 55544      | 1          | 28         | 2002.075   | 1825       | 2002       | A:[0]      | 4          | 2.066863   | NA         | NA         | \n",
       "| 2002-01-29 | 7.9        | 55545      | 1          | 29         | 2002.078   | 1825       | 2002       | A:[0]      | 5          | 2.066863   | NA         | NA         | \n",
       "| 2002-01-30 | 7.9        | 55546      | 1          | 30         | 2002.081   | 1825       | 2002       | A:[0]      | 6          | 2.066863   | NA         | NA         | \n",
       "\n",
       "\n"
      ],
      "text/plain": [
       "  Date       pH  Julian Month Day DecYear  MonthSeq waterYear Qualifier i\n",
       "1 2002-01-25 7.7 55541  1     25  2002.067 1825     2002      A:[0]     1\n",
       "2 2002-01-26 7.9 55542  1     26  2002.070 1825     2002      A:[0]     2\n",
       "3 2002-01-27 7.9 55543  1     27  2002.073 1825     2002      A:[0]     3\n",
       "4 2002-01-28 7.9 55544  1     28  2002.075 1825     2002      A:[0]     4\n",
       "5 2002-01-29 7.9 55545  1     29  2002.078 1825     2002      A:[0]     5\n",
       "6 2002-01-30 7.9 55546  1     30  2002.081 1825     2002      A:[0]     6\n",
       "  Log      Q7 Q30\n",
       "1 2.041220 NA NA \n",
       "2 2.066863 NA NA \n",
       "3 2.066863 NA NA \n",
       "4 2.066863 NA NA \n",
       "5 2.066863 NA NA \n",
       "6 2.066863 NA NA "
      ]
     },
     "metadata": {},
     "output_type": "display_data"
    }
   ],
   "source": [
    "head(DailypH_1)"
   ]
  },
  {
   "cell_type": "markdown",
   "metadata": {},
   "source": [
    "## What do all of these components of the code mean?\n",
    "### Name definitions\n",
    "\n",
    "Date-Actual date\n",
    "\n",
    "pH- values for the the variable pH which is acidity\n",
    "    \n",
    "Julian-day of the year\n",
    "    \n",
    "Month-Month labeled as a number Jan=1, Feb=2\n",
    "    \n",
    "Day-Day of the month\n",
    "    \n",
    "DecYear-Date converted to a decimal\n",
    "    \n",
    "MonthSeq-Number of months after 1850\n",
    "    \n",
    "waterYear- hydrological years begin in September. (Sept 2015-August 2016 is the 2016 water year)\n",
    "    \n",
    "Qualifier-quality codes\n",
    "    \n",
    "i-measuremen number\n",
    "    \n",
    "log-log of the data values\n",
    "    \n",
    "Q7-7 day running average\n",
    "    \n",
    "Q30-30 day running average"
   ]
  },
  {
   "cell_type": "markdown",
   "metadata": {},
   "source": [
    "## Plot the pH data by month"
   ]
  },
  {
   "cell_type": "code",
   "execution_count": 7,
   "metadata": {},
   "outputs": [
    {
     "data": {
      "image/png": "[encoded data removed]",
      "text/plain": [
       "plot without title"
      ]
     },
     "metadata": {},
     "output_type": "display_data"
    }
   ],
   "source": [
    "\n",
    "#######################================Plot the pH data by month============##########\n",
    "\n",
    "boxplot(DailypH_1$pH~DailypH_1$Month,xlab=\"Month Jan=1, Feb=2...etc.\",ylab=\"pH\")\n",
    "\n"
   ]
  },
  {
   "cell_type": "markdown",
   "metadata": {},
   "source": [
    "## Classify the pH data"
   ]
  },
  {
   "cell_type": "code",
   "execution_count": 8,
   "metadata": {
    "collapsed": true
   },
   "outputs": [],
   "source": [
    "#######################================Classify the pH data============##########\n",
    "#Here we are going to categorize our dates as pre-fire and post-fire\n",
    "#What does it mean to categorize in this way?\n",
    "DailypH_1$prepost<-NA\n",
    "DailypH_1$prepost[DailypH_1$Date < \"2017-09-30\"]<-\"preFire\" #dates before Sept. 30, 2017 are 0 for pre\n",
    "DailypH_1$prepost[DailypH_1$Date > \"2017-09-30\"]<-\"postFire\" #dates after Sept. 30, 2017 are 1 for post"
   ]
  },
  {
   "cell_type": "markdown",
   "metadata": {},
   "source": [
    "## Plot pre-and-post fire pH"
   ]
  },
  {
   "cell_type": "code",
   "execution_count": 9,
   "metadata": {},
   "outputs": [
    {
     "data": {},
     "metadata": {},
     "output_type": "display_data"
    },
    {
     "data": {
      "image/png": "[encoded data removed]",
      "text/plain": [
       "plot without title"
      ]
     },
     "metadata": {},
     "output_type": "display_data"
    }
   ],
   "source": [
    "\n",
    "#############################Color the box plot by pre-post fire and combine by month\n",
    "\n",
    "# grouped boxplot\n",
    "ggplot(DailypH_1, aes(x=as.factor(Month), y=pH, fill=prepost)) + \n",
    "  geom_boxplot()+\n",
    "  labs(x=\"Month Jan=1, Feb=2, March=3, etc.\",y=\"pH (acidity)\")\n",
    "\n",
    "############################"
   ]
  },
  {
   "cell_type": "markdown",
   "metadata": {},
   "source": [
    "## Mapping the USGS Data"
   ]
  },
  {
   "cell_type": "markdown",
   "metadata": {},
   "source": [
    "### Set the input values and categorize the data"
   ]
  },
  {
   "cell_type": "code",
   "execution_count": 10,
   "metadata": {},
   "outputs": [
    {
     "data": {
      "text/html": [
       "<ol class=list-inline>\n",
       "\t<li>'std units'</li>\n",
       "\t<li>'None'</li>\n",
       "\t<li>NA</li>\n",
       "\t<li>'mV'</li>\n",
       "</ol>\n"
      ],
      "text/latex": [
       "\\begin{enumerate*}\n",
       "\\item 'std units'\n",
       "\\item 'None'\n",
       "\\item NA\n",
       "\\item 'mV'\n",
       "\\end{enumerate*}\n"
      ],
      "text/markdown": [
       "1. 'std units'\n",
       "2. 'None'\n",
       "3. NA\n",
       "4. 'mV'\n",
       "\n",
       "\n"
      ],
      "text/plain": [
       "[1] \"std units\" \"None\"      NA          \"mV\"       "
      ]
     },
     "metadata": {},
     "output_type": "display_data"
    }
   ],
   "source": [
    "############=======Mapping pH for California Pre-Fire============##########\n",
    "\n",
    "\n",
    "# Might take 1 minute to fetch the data. If this fails wait a moment and try again because everyone is trying to fetch at the same time\n",
    "# CAUTION: do not run any additional lines of code until AllData is finished and the * goes away on the left. In[*]\n",
    "\n",
    "startDate <- as.Date(\"2016-07-01\")\n",
    "endDate <- as.Date(\"2018-07-01\")\n",
    "AllData <- readWQPdata(statecode=\"CA\",characteristicName=\"pH\",startDate=startDate,endDate=endDate) \n",
    "\n",
    "unique(AllData$ResultMeasure.MeasureUnitCode) #we will use \"None\" units becuse pH is unitless\n",
    "siteInfo <- attr(AllData, \"siteInfo\")\n",
    "\n",
    "\n",
    "\n"
   ]
  },
  {
   "cell_type": "code",
   "execution_count": 11,
   "metadata": {},
   "outputs": [
    {
     "data": {
      "text/html": [
       "<table>\n",
       "<thead><tr><th scope=col>OrganizationIdentifier</th><th scope=col>OrganizationFormalName</th><th scope=col>ActivityIdentifier</th><th scope=col>ActivityTypeCode</th><th scope=col>ActivityMediaName</th><th scope=col>ActivityMediaSubdivisionName</th><th scope=col>ActivityStartDate</th><th scope=col>ActivityStartTime.Time</th><th scope=col>ActivityStartTime.TimeZoneCode</th><th scope=col>ActivityEndDate</th><th scope=col>...</th><th scope=col>LaboratoryName</th><th scope=col>AnalysisStartDate</th><th scope=col>ResultLaboratoryCommentText</th><th scope=col>DetectionQuantitationLimitTypeName</th><th scope=col>DetectionQuantitationLimitMeasure.MeasureValue</th><th scope=col>DetectionQuantitationLimitMeasure.MeasureUnitCode</th><th scope=col>PreparationStartDate</th><th scope=col>ProviderName</th><th scope=col>ActivityStartDateTime</th><th scope=col>ActivityEndDateTime</th></tr></thead>\n",
       "<tbody>\n",
       "\t<tr><td>USGS-CA                                          </td><td>USGS California Water Science Center             </td><td>nwisca.01.01800559                               </td><td>Sample-Routine                                   </td><td>Water                                            </td><td>Groundwater                                      </td><td>2017-11-15                                       </td><td>10:40:00                                         </td><td>PST                                              </td><td>NA                                               </td><td>...                                              </td><td>U.S. Geological Survey-Water Resources Discipline</td><td>NA                                               </td><td>NA                                               </td><td>NA                                               </td><td>NA                                               </td><td>NA                                               </td><td>NA                                               </td><td>NWIS                                             </td><td>2017-11-15 18:40:00                              </td><td>NA                                               </td></tr>\n",
       "\t<tr><td>USGS-CA                                          </td><td>USGS California Water Science Center             </td><td>nwisca.01.01800560                               </td><td>Sample-Routine                                   </td><td>Water                                            </td><td>Groundwater                                      </td><td>2017-11-14                                       </td><td>15:00:00                                         </td><td>PST                                              </td><td>NA                                               </td><td>...                                              </td><td>U.S. Geological Survey-Water Resources Discipline</td><td>NA                                               </td><td>NA                                               </td><td>NA                                               </td><td>NA                                               </td><td>NA                                               </td><td>NA                                               </td><td>NWIS                                             </td><td>2017-11-14 23:00:00                              </td><td>NA                                               </td></tr>\n",
       "\t<tr><td>USGS-CA                                          </td><td>USGS California Water Science Center             </td><td>nwisca.01.01800562                               </td><td>Sample-Routine                                   </td><td>Water                                            </td><td>Groundwater                                      </td><td>2017-11-13                                       </td><td>16:10:00                                         </td><td>PST                                              </td><td>NA                                               </td><td>...                                              </td><td>U.S. Geological Survey-Water Resources Discipline</td><td>NA                                               </td><td>NA                                               </td><td>NA                                               </td><td>NA                                               </td><td>NA                                               </td><td>NA                                               </td><td>NWIS                                             </td><td>2017-11-14 00:10:00                              </td><td>NA                                               </td></tr>\n",
       "\t<tr><td>USGS-CA                                          </td><td>USGS California Water Science Center             </td><td>nwisca.01.01800564                               </td><td>Sample-Routine                                   </td><td>Water                                            </td><td>Groundwater                                      </td><td>2017-11-12                                       </td><td>15:00:00                                         </td><td>PST                                              </td><td>NA                                               </td><td>...                                              </td><td>U.S. Geological Survey-Water Resources Discipline</td><td>NA                                               </td><td>NA                                               </td><td>NA                                               </td><td>NA                                               </td><td>NA                                               </td><td>NA                                               </td><td>NWIS                                             </td><td>2017-11-12 23:00:00                              </td><td>NA                                               </td></tr>\n",
       "\t<tr><td>USGS-CA                                          </td><td>USGS California Water Science Center             </td><td>nwisca.01.01800566                               </td><td>Sample-Routine                                   </td><td>Water                                            </td><td>Groundwater                                      </td><td>2017-11-11                                       </td><td>15:30:00                                         </td><td>PST                                              </td><td>NA                                               </td><td>...                                              </td><td>U.S. Geological Survey-Water Resources Discipline</td><td>NA                                               </td><td>NA                                               </td><td>NA                                               </td><td>NA                                               </td><td>NA                                               </td><td>NA                                               </td><td>NWIS                                             </td><td>2017-11-11 23:30:00                              </td><td>NA                                               </td></tr>\n",
       "\t<tr><td>USGS-CA                                          </td><td>USGS California Water Science Center             </td><td>nwisca.01.01800567                               </td><td>Sample-Routine                                   </td><td>Water                                            </td><td>Groundwater                                      </td><td>2017-11-11                                       </td><td>12:40:00                                         </td><td>PST                                              </td><td>NA                                               </td><td>...                                              </td><td>U.S. Geological Survey-Water Resources Discipline</td><td>NA                                               </td><td>NA                                               </td><td>NA                                               </td><td>NA                                               </td><td>NA                                               </td><td>NA                                               </td><td>NWIS                                             </td><td>2017-11-11 20:40:00                              </td><td>NA                                               </td></tr>\n",
       "</tbody>\n",
       "</table>\n"
      ],
      "text/latex": [
       "\\begin{tabular}{r|lllllllllllllllllllllllllllllllllllllllllllllllllllllllllllllllll}\n",
       " OrganizationIdentifier & OrganizationFormalName & ActivityIdentifier & ActivityTypeCode & ActivityMediaName & ActivityMediaSubdivisionName & ActivityStartDate & ActivityStartTime.Time & ActivityStartTime.TimeZoneCode & ActivityEndDate & ... & LaboratoryName & AnalysisStartDate & ResultLaboratoryCommentText & DetectionQuantitationLimitTypeName & DetectionQuantitationLimitMeasure.MeasureValue & DetectionQuantitationLimitMeasure.MeasureUnitCode & PreparationStartDate & ProviderName & ActivityStartDateTime & ActivityEndDateTime\\\\\n",
       "\\hline\n",
       "\t USGS-CA                                           & USGS California Water Science Center              & nwisca.01.01800559                                & Sample-Routine                                    & Water                                             & Groundwater                                       & 2017-11-15                                        & 10:40:00                                          & PST                                               & NA                                                & ...                                               & U.S. Geological Survey-Water Resources Discipline & NA                                                & NA                                                & NA                                                & NA                                                & NA                                                & NA                                                & NWIS                                              & 2017-11-15 18:40:00                               & NA                                               \\\\\n",
       "\t USGS-CA                                           & USGS California Water Science Center              & nwisca.01.01800560                                & Sample-Routine                                    & Water                                             & Groundwater                                       & 2017-11-14                                        & 15:00:00                                          & PST                                               & NA                                                & ...                                               & U.S. Geological Survey-Water Resources Discipline & NA                                                & NA                                                & NA                                                & NA                                                & NA                                                & NA                                                & NWIS                                              & 2017-11-14 23:00:00                               & NA                                               \\\\\n",
       "\t USGS-CA                                           & USGS California Water Science Center              & nwisca.01.01800562                                & Sample-Routine                                    & Water                                             & Groundwater                                       & 2017-11-13                                        & 16:10:00                                          & PST                                               & NA                                                & ...                                               & U.S. Geological Survey-Water Resources Discipline & NA                                                & NA                                                & NA                                                & NA                                                & NA                                                & NA                                                & NWIS                                              & 2017-11-14 00:10:00                               & NA                                               \\\\\n",
       "\t USGS-CA                                           & USGS California Water Science Center              & nwisca.01.01800564                                & Sample-Routine                                    & Water                                             & Groundwater                                       & 2017-11-12                                        & 15:00:00                                          & PST                                               & NA                                                & ...                                               & U.S. Geological Survey-Water Resources Discipline & NA                                                & NA                                                & NA                                                & NA                                                & NA                                                & NA                                                & NWIS                                              & 2017-11-12 23:00:00                               & NA                                               \\\\\n",
       "\t USGS-CA                                           & USGS California Water Science Center              & nwisca.01.01800566                                & Sample-Routine                                    & Water                                             & Groundwater                                       & 2017-11-11                                        & 15:30:00                                          & PST                                               & NA                                                & ...                                               & U.S. Geological Survey-Water Resources Discipline & NA                                                & NA                                                & NA                                                & NA                                                & NA                                                & NA                                                & NWIS                                              & 2017-11-11 23:30:00                               & NA                                               \\\\\n",
       "\t USGS-CA                                           & USGS California Water Science Center              & nwisca.01.01800567                                & Sample-Routine                                    & Water                                             & Groundwater                                       & 2017-11-11                                        & 12:40:00                                          & PST                                               & NA                                                & ...                                               & U.S. Geological Survey-Water Resources Discipline & NA                                                & NA                                                & NA                                                & NA                                                & NA                                                & NA                                                & NWIS                                              & 2017-11-11 20:40:00                               & NA                                               \\\\\n",
       "\\end{tabular}\n"
      ],
      "text/markdown": [
       "\n",
       "OrganizationIdentifier | OrganizationFormalName | ActivityIdentifier | ActivityTypeCode | ActivityMediaName | ActivityMediaSubdivisionName | ActivityStartDate | ActivityStartTime.Time | ActivityStartTime.TimeZoneCode | ActivityEndDate | ... | LaboratoryName | AnalysisStartDate | ResultLaboratoryCommentText | DetectionQuantitationLimitTypeName | DetectionQuantitationLimitMeasure.MeasureValue | DetectionQuantitationLimitMeasure.MeasureUnitCode | PreparationStartDate | ProviderName | ActivityStartDateTime | ActivityEndDateTime | \n",
       "|---|---|---|---|---|---|\n",
       "| USGS-CA                                           | USGS California Water Science Center              | nwisca.01.01800559                                | Sample-Routine                                    | Water                                             | Groundwater                                       | 2017-11-15                                        | 10:40:00                                          | PST                                               | NA                                                | ...                                               | U.S. Geological Survey-Water Resources Discipline | NA                                                | NA                                                | NA                                                | NA                                                | NA                                                | NA                                                | NWIS                                              | 2017-11-15 18:40:00                               | NA                                                | \n",
       "| USGS-CA                                           | USGS California Water Science Center              | nwisca.01.01800560                                | Sample-Routine                                    | Water                                             | Groundwater                                       | 2017-11-14                                        | 15:00:00                                          | PST                                               | NA                                                | ...                                               | U.S. Geological Survey-Water Resources Discipline | NA                                                | NA                                                | NA                                                | NA                                                | NA                                                | NA                                                | NWIS                                              | 2017-11-14 23:00:00                               | NA                                                | \n",
       "| USGS-CA                                           | USGS California Water Science Center              | nwisca.01.01800562                                | Sample-Routine                                    | Water                                             | Groundwater                                       | 2017-11-13                                        | 16:10:00                                          | PST                                               | NA                                                | ...                                               | U.S. Geological Survey-Water Resources Discipline | NA                                                | NA                                                | NA                                                | NA                                                | NA                                                | NA                                                | NWIS                                              | 2017-11-14 00:10:00                               | NA                                                | \n",
       "| USGS-CA                                           | USGS California Water Science Center              | nwisca.01.01800564                                | Sample-Routine                                    | Water                                             | Groundwater                                       | 2017-11-12                                        | 15:00:00                                          | PST                                               | NA                                                | ...                                               | U.S. Geological Survey-Water Resources Discipline | NA                                                | NA                                                | NA                                                | NA                                                | NA                                                | NA                                                | NWIS                                              | 2017-11-12 23:00:00                               | NA                                                | \n",
       "| USGS-CA                                           | USGS California Water Science Center              | nwisca.01.01800566                                | Sample-Routine                                    | Water                                             | Groundwater                                       | 2017-11-11                                        | 15:30:00                                          | PST                                               | NA                                                | ...                                               | U.S. Geological Survey-Water Resources Discipline | NA                                                | NA                                                | NA                                                | NA                                                | NA                                                | NA                                                | NWIS                                              | 2017-11-11 23:30:00                               | NA                                                | \n",
       "| USGS-CA                                           | USGS California Water Science Center              | nwisca.01.01800567                                | Sample-Routine                                    | Water                                             | Groundwater                                       | 2017-11-11                                        | 12:40:00                                          | PST                                               | NA                                                | ...                                               | U.S. Geological Survey-Water Resources Discipline | NA                                                | NA                                                | NA                                                | NA                                                | NA                                                | NA                                                | NWIS                                              | 2017-11-11 20:40:00                               | NA                                                | \n",
       "\n",
       "\n"
      ],
      "text/plain": [
       "  OrganizationIdentifier OrganizationFormalName              \n",
       "1 USGS-CA                USGS California Water Science Center\n",
       "2 USGS-CA                USGS California Water Science Center\n",
       "3 USGS-CA                USGS California Water Science Center\n",
       "4 USGS-CA                USGS California Water Science Center\n",
       "5 USGS-CA                USGS California Water Science Center\n",
       "6 USGS-CA                USGS California Water Science Center\n",
       "  ActivityIdentifier ActivityTypeCode ActivityMediaName\n",
       "1 nwisca.01.01800559 Sample-Routine   Water            \n",
       "2 nwisca.01.01800560 Sample-Routine   Water            \n",
       "3 nwisca.01.01800562 Sample-Routine   Water            \n",
       "4 nwisca.01.01800564 Sample-Routine   Water            \n",
       "5 nwisca.01.01800566 Sample-Routine   Water            \n",
       "6 nwisca.01.01800567 Sample-Routine   Water            \n",
       "  ActivityMediaSubdivisionName ActivityStartDate ActivityStartTime.Time\n",
       "1 Groundwater                  2017-11-15        10:40:00              \n",
       "2 Groundwater                  2017-11-14        15:00:00              \n",
       "3 Groundwater                  2017-11-13        16:10:00              \n",
       "4 Groundwater                  2017-11-12        15:00:00              \n",
       "5 Groundwater                  2017-11-11        15:30:00              \n",
       "6 Groundwater                  2017-11-11        12:40:00              \n",
       "  ActivityStartTime.TimeZoneCode ActivityEndDate ...\n",
       "1 PST                            <NA>            ...\n",
       "2 PST                            <NA>            ...\n",
       "3 PST                            <NA>            ...\n",
       "4 PST                            <NA>            ...\n",
       "5 PST                            <NA>            ...\n",
       "6 PST                            <NA>            ...\n",
       "  LaboratoryName                                    AnalysisStartDate\n",
       "1 U.S. Geological Survey-Water Resources Discipline <NA>             \n",
       "2 U.S. Geological Survey-Water Resources Discipline <NA>             \n",
       "3 U.S. Geological Survey-Water Resources Discipline <NA>             \n",
       "4 U.S. Geological Survey-Water Resources Discipline <NA>             \n",
       "5 U.S. Geological Survey-Water Resources Discipline <NA>             \n",
       "6 U.S. Geological Survey-Water Resources Discipline <NA>             \n",
       "  ResultLaboratoryCommentText DetectionQuantitationLimitTypeName\n",
       "1 NA                          NA                                \n",
       "2 NA                          NA                                \n",
       "3 NA                          NA                                \n",
       "4 NA                          NA                                \n",
       "5 NA                          NA                                \n",
       "6 NA                          NA                                \n",
       "  DetectionQuantitationLimitMeasure.MeasureValue\n",
       "1 NA                                            \n",
       "2 NA                                            \n",
       "3 NA                                            \n",
       "4 NA                                            \n",
       "5 NA                                            \n",
       "6 NA                                            \n",
       "  DetectionQuantitationLimitMeasure.MeasureUnitCode PreparationStartDate\n",
       "1 NA                                                <NA>                \n",
       "2 NA                                                <NA>                \n",
       "3 NA                                                <NA>                \n",
       "4 NA                                                <NA>                \n",
       "5 NA                                                <NA>                \n",
       "6 NA                                                <NA>                \n",
       "  ProviderName ActivityStartDateTime ActivityEndDateTime\n",
       "1 NWIS         2017-11-15 18:40:00   <NA>               \n",
       "2 NWIS         2017-11-14 23:00:00   <NA>               \n",
       "3 NWIS         2017-11-14 00:10:00   <NA>               \n",
       "4 NWIS         2017-11-12 23:00:00   <NA>               \n",
       "5 NWIS         2017-11-11 23:30:00   <NA>               \n",
       "6 NWIS         2017-11-11 20:40:00   <NA>               "
      ]
     },
     "metadata": {},
     "output_type": "display_data"
    }
   ],
   "source": [
    "head(AllData)"
   ]
  },
  {
   "cell_type": "code",
   "execution_count": 12,
   "metadata": {
    "collapsed": true
   },
   "outputs": [],
   "source": [
    "# Everything for wiSummary needs to be run as a group\n",
    "# Put your cursor at the beginning of wiSummaryPre then press run.\n",
    "# If an error pops up here it means you did not stop for AllData to finish and sitInfo did not run correctly. If the error arises, Close R studio, start rstudio fresh by \"cleaning\" or \"sweeping\" your workspace clean, load the libraries and move through the code slowly starting at the AllData line.\n",
    "\n",
    "wiSummaryPre <- AllData %>%\n",
    "  filter(ResultMeasure.MeasureUnitCode %in% c(\"None\")) %>%\n",
    "  group_by(MonitoringLocationIdentifier) %>%\n",
    "  summarise(count=n(),\n",
    "            start=min(ActivityStartDateTime),\n",
    "            end=max(ActivityStartDateTime),\n",
    "            mean = mean(ResultMeasureValue, na.rm = TRUE)) %>%\n",
    "  #filter(count > 30) %>%\n",
    "  arrange(-count) %>%\n",
    "  left_join(siteInfo, by = \"MonitoringLocationIdentifier\")\n",
    "\n",
    "indx<-which(is.na(wiSummaryPre$mean))\n",
    "wiSummaryPre<-wiSummaryPre[-indx,]"
   ]
  },
  {
   "cell_type": "code",
   "execution_count": 13,
   "metadata": {},
   "outputs": [
    {
     "data": {
      "text/html": [
       "<table>\n",
       "<thead><tr><th scope=col>MonitoringLocationIdentifier</th><th scope=col>count</th><th scope=col>start</th><th scope=col>end</th><th scope=col>mean</th><th scope=col>station_nm</th><th scope=col>agency_cd</th><th scope=col>site_no</th><th scope=col>dec_lat_va</th><th scope=col>dec_lon_va</th><th scope=col>...</th><th scope=col>CountyCode</th><th scope=col>AquiferName</th><th scope=col>FormationTypeText</th><th scope=col>AquiferTypeName</th><th scope=col>ConstructionDateText</th><th scope=col>WellDepthMeasure.MeasureValue</th><th scope=col>WellDepthMeasure.MeasureUnitCode</th><th scope=col>WellHoleDepthMeasure.MeasureValue</th><th scope=col>WellHoleDepthMeasure.MeasureUnitCode</th><th scope=col>ProviderName</th></tr></thead>\n",
       "<tbody>\n",
       "\t<tr><td>MRSENVMB_WQX-M-001                  </td><td>730                                 </td><td>2016-07-01 07:00:00                 </td><td>2018-06-30 07:00:00                 </td><td>7.362192                            </td><td>Treatment Plant Air Relief Structure</td><td>MRSENVMB_WQX                        </td><td>MRSENVMB_WQX-M-001                  </td><td>35.37972                            </td><td>-120.8611                           </td><td>...                                 </td><td>079                                 </td><td>NA                                  </td><td>NA                                  </td><td>NA                                  </td><td>NA                                  </td><td>NA                                  </td><td>NA                                  </td><td>NA                                  </td><td>NA                                  </td><td>STORET                              </td></tr>\n",
       "\t<tr><td>MRSENVMB_WQX-M-INF                  </td><td>729                                 </td><td>2016-07-01 07:00:00                 </td><td>2018-06-30 07:00:00                 </td><td>7.602469                            </td><td>Treatment Plant Headworks           </td><td>MRSENVMB_WQX                        </td><td>MRSENVMB_WQX-M-INF                  </td><td>35.37910                            </td><td>-120.8601                           </td><td>...                                 </td><td>079                                 </td><td>NA                                  </td><td>NA                                  </td><td>NA                                  </td><td>NA                                  </td><td>NA                                  </td><td>NA                                  </td><td>NA                                  </td><td>NA                                  </td><td>STORET                              </td></tr>\n",
       "\t<tr><td>MRSENVMB_WQX-RW5                    </td><td>230                                 </td><td>2016-09-20 16:07:46                 </td><td>2018-03-12 17:02:23                 </td><td>8.031444                            </td><td>Downcoast Water Quality Nearfield   </td><td>MRSENVMB_WQX                        </td><td>MRSENVMB_WQX-RW5                    </td><td>35.38612                            </td><td>-120.8751                           </td><td>...                                 </td><td>079                                 </td><td>NA                                  </td><td>NA                                  </td><td>NA                                  </td><td>NA                                  </td><td>NA                                  </td><td>NA                                  </td><td>NA                                  </td><td>NA                                  </td><td>STORET                              </td></tr>\n",
       "\t<tr><td>MRSENVMB_WQX-RW4                    </td><td>229                                 </td><td>2016-09-20 16:10:45                 </td><td>2018-03-12 16:59:02                 </td><td>8.026322                            </td><td>Downcoast Water Quality ZID         </td><td>MRSENVMB_WQX                        </td><td>MRSENVMB_WQX-RW4                    </td><td>35.38647                            </td><td>-120.8751                           </td><td>...                                 </td><td>079                                 </td><td>NA                                  </td><td>NA                                  </td><td>NA                                  </td><td>NA                                  </td><td>NA                                  </td><td>NA                                  </td><td>NA                                  </td><td>NA                                  </td><td>STORET                              </td></tr>\n",
       "\t<tr><td>MRSENVMB_WQX-RW3                    </td><td>227                                 </td><td>2016-09-20 16:13:52                 </td><td>2018-03-12 16:55:46                 </td><td>8.025528                            </td><td>Upcoast Water Quality ZID           </td><td>MRSENVMB_WQX                        </td><td>MRSENVMB_WQX-RW3                    </td><td>35.38683                            </td><td>-120.8751                           </td><td>...                                 </td><td>079                                 </td><td>NA                                  </td><td>NA                                  </td><td>NA                                  </td><td>NA                                  </td><td>NA                                  </td><td>NA                                  </td><td>NA                                  </td><td>NA                                  </td><td>STORET                              </td></tr>\n",
       "\t<tr><td>MRSENVMB_WQX-RW6                    </td><td>227                                 </td><td>2016-09-20 16:04:23                 </td><td>2018-03-12 17:06:02                 </td><td>8.036914                            </td><td>Downcoast Water Quality Midfield    </td><td>MRSENVMB_WQX                        </td><td>MRSENVMB_WQX-RW6                    </td><td>35.38575                            </td><td>-120.8751                           </td><td>...                                 </td><td>079                                 </td><td>NA                                  </td><td>NA                                  </td><td>NA                                  </td><td>NA                                  </td><td>NA                                  </td><td>NA                                  </td><td>NA                                  </td><td>NA                                  </td><td>STORET                              </td></tr>\n",
       "</tbody>\n",
       "</table>\n"
      ],
      "text/latex": [
       "\\begin{tabular}{r|llllllllllllllllllllllllllllllllllllllllllllll}\n",
       " MonitoringLocationIdentifier & count & start & end & mean & station\\_nm & agency\\_cd & site\\_no & dec\\_lat\\_va & dec\\_lon\\_va & ... & CountyCode & AquiferName & FormationTypeText & AquiferTypeName & ConstructionDateText & WellDepthMeasure.MeasureValue & WellDepthMeasure.MeasureUnitCode & WellHoleDepthMeasure.MeasureValue & WellHoleDepthMeasure.MeasureUnitCode & ProviderName\\\\\n",
       "\\hline\n",
       "\t MRSENVMB\\_WQX-M-001                 & 730                                  & 2016-07-01 07:00:00                  & 2018-06-30 07:00:00                  & 7.362192                             & Treatment Plant Air Relief Structure & MRSENVMB\\_WQX                       & MRSENVMB\\_WQX-M-001                 & 35.37972                             & -120.8611                            & ...                                  & 079                                  & NA                                   & NA                                   & NA                                   & NA                                   & NA                                   & NA                                   & NA                                   & NA                                   & STORET                              \\\\\n",
       "\t MRSENVMB\\_WQX-M-INF                 & 729                                  & 2016-07-01 07:00:00                  & 2018-06-30 07:00:00                  & 7.602469                             & Treatment Plant Headworks            & MRSENVMB\\_WQX                       & MRSENVMB\\_WQX-M-INF                 & 35.37910                             & -120.8601                            & ...                                  & 079                                  & NA                                   & NA                                   & NA                                   & NA                                   & NA                                   & NA                                   & NA                                   & NA                                   & STORET                              \\\\\n",
       "\t MRSENVMB\\_WQX-RW5                   & 230                                  & 2016-09-20 16:07:46                  & 2018-03-12 17:02:23                  & 8.031444                             & Downcoast Water Quality Nearfield    & MRSENVMB\\_WQX                       & MRSENVMB\\_WQX-RW5                   & 35.38612                             & -120.8751                            & ...                                  & 079                                  & NA                                   & NA                                   & NA                                   & NA                                   & NA                                   & NA                                   & NA                                   & NA                                   & STORET                              \\\\\n",
       "\t MRSENVMB\\_WQX-RW4                   & 229                                  & 2016-09-20 16:10:45                  & 2018-03-12 16:59:02                  & 8.026322                             & Downcoast Water Quality ZID          & MRSENVMB\\_WQX                       & MRSENVMB\\_WQX-RW4                   & 35.38647                             & -120.8751                            & ...                                  & 079                                  & NA                                   & NA                                   & NA                                   & NA                                   & NA                                   & NA                                   & NA                                   & NA                                   & STORET                              \\\\\n",
       "\t MRSENVMB\\_WQX-RW3                   & 227                                  & 2016-09-20 16:13:52                  & 2018-03-12 16:55:46                  & 8.025528                             & Upcoast Water Quality ZID            & MRSENVMB\\_WQX                       & MRSENVMB\\_WQX-RW3                   & 35.38683                             & -120.8751                            & ...                                  & 079                                  & NA                                   & NA                                   & NA                                   & NA                                   & NA                                   & NA                                   & NA                                   & NA                                   & STORET                              \\\\\n",
       "\t MRSENVMB\\_WQX-RW6                   & 227                                  & 2016-09-20 16:04:23                  & 2018-03-12 17:06:02                  & 8.036914                             & Downcoast Water Quality Midfield     & MRSENVMB\\_WQX                       & MRSENVMB\\_WQX-RW6                   & 35.38575                             & -120.8751                            & ...                                  & 079                                  & NA                                   & NA                                   & NA                                   & NA                                   & NA                                   & NA                                   & NA                                   & NA                                   & STORET                              \\\\\n",
       "\\end{tabular}\n"
      ],
      "text/markdown": [
       "\n",
       "MonitoringLocationIdentifier | count | start | end | mean | station_nm | agency_cd | site_no | dec_lat_va | dec_lon_va | ... | CountyCode | AquiferName | FormationTypeText | AquiferTypeName | ConstructionDateText | WellDepthMeasure.MeasureValue | WellDepthMeasure.MeasureUnitCode | WellHoleDepthMeasure.MeasureValue | WellHoleDepthMeasure.MeasureUnitCode | ProviderName | \n",
       "|---|---|---|---|---|---|\n",
       "| MRSENVMB_WQX-M-001                   | 730                                  | 2016-07-01 07:00:00                  | 2018-06-30 07:00:00                  | 7.362192                             | Treatment Plant Air Relief Structure | MRSENVMB_WQX                         | MRSENVMB_WQX-M-001                   | 35.37972                             | -120.8611                            | ...                                  | 079                                  | NA                                   | NA                                   | NA                                   | NA                                   | NA                                   | NA                                   | NA                                   | NA                                   | STORET                               | \n",
       "| MRSENVMB_WQX-M-INF                   | 729                                  | 2016-07-01 07:00:00                  | 2018-06-30 07:00:00                  | 7.602469                             | Treatment Plant Headworks            | MRSENVMB_WQX                         | MRSENVMB_WQX-M-INF                   | 35.37910                             | -120.8601                            | ...                                  | 079                                  | NA                                   | NA                                   | NA                                   | NA                                   | NA                                   | NA                                   | NA                                   | NA                                   | STORET                               | \n",
       "| MRSENVMB_WQX-RW5                     | 230                                  | 2016-09-20 16:07:46                  | 2018-03-12 17:02:23                  | 8.031444                             | Downcoast Water Quality Nearfield    | MRSENVMB_WQX                         | MRSENVMB_WQX-RW5                     | 35.38612                             | -120.8751                            | ...                                  | 079                                  | NA                                   | NA                                   | NA                                   | NA                                   | NA                                   | NA                                   | NA                                   | NA                                   | STORET                               | \n",
       "| MRSENVMB_WQX-RW4                     | 229                                  | 2016-09-20 16:10:45                  | 2018-03-12 16:59:02                  | 8.026322                             | Downcoast Water Quality ZID          | MRSENVMB_WQX                         | MRSENVMB_WQX-RW4                     | 35.38647                             | -120.8751                            | ...                                  | 079                                  | NA                                   | NA                                   | NA                                   | NA                                   | NA                                   | NA                                   | NA                                   | NA                                   | STORET                               | \n",
       "| MRSENVMB_WQX-RW3                     | 227                                  | 2016-09-20 16:13:52                  | 2018-03-12 16:55:46                  | 8.025528                             | Upcoast Water Quality ZID            | MRSENVMB_WQX                         | MRSENVMB_WQX-RW3                     | 35.38683                             | -120.8751                            | ...                                  | 079                                  | NA                                   | NA                                   | NA                                   | NA                                   | NA                                   | NA                                   | NA                                   | NA                                   | STORET                               | \n",
       "| MRSENVMB_WQX-RW6                     | 227                                  | 2016-09-20 16:04:23                  | 2018-03-12 17:06:02                  | 8.036914                             | Downcoast Water Quality Midfield     | MRSENVMB_WQX                         | MRSENVMB_WQX-RW6                     | 35.38575                             | -120.8751                            | ...                                  | 079                                  | NA                                   | NA                                   | NA                                   | NA                                   | NA                                   | NA                                   | NA                                   | NA                                   | STORET                               | \n",
       "\n",
       "\n"
      ],
      "text/plain": [
       "  MonitoringLocationIdentifier count start               end                \n",
       "1 MRSENVMB_WQX-M-001           730   2016-07-01 07:00:00 2018-06-30 07:00:00\n",
       "2 MRSENVMB_WQX-M-INF           729   2016-07-01 07:00:00 2018-06-30 07:00:00\n",
       "3 MRSENVMB_WQX-RW5             230   2016-09-20 16:07:46 2018-03-12 17:02:23\n",
       "4 MRSENVMB_WQX-RW4             229   2016-09-20 16:10:45 2018-03-12 16:59:02\n",
       "5 MRSENVMB_WQX-RW3             227   2016-09-20 16:13:52 2018-03-12 16:55:46\n",
       "6 MRSENVMB_WQX-RW6             227   2016-09-20 16:04:23 2018-03-12 17:06:02\n",
       "  mean     station_nm                           agency_cd    site_no           \n",
       "1 7.362192 Treatment Plant Air Relief Structure MRSENVMB_WQX MRSENVMB_WQX-M-001\n",
       "2 7.602469 Treatment Plant Headworks            MRSENVMB_WQX MRSENVMB_WQX-M-INF\n",
       "3 8.031444 Downcoast Water Quality Nearfield    MRSENVMB_WQX MRSENVMB_WQX-RW5  \n",
       "4 8.026322 Downcoast Water Quality ZID          MRSENVMB_WQX MRSENVMB_WQX-RW4  \n",
       "5 8.025528 Upcoast Water Quality ZID            MRSENVMB_WQX MRSENVMB_WQX-RW3  \n",
       "6 8.036914 Downcoast Water Quality Midfield     MRSENVMB_WQX MRSENVMB_WQX-RW6  \n",
       "  dec_lat_va dec_lon_va ... CountyCode AquiferName FormationTypeText\n",
       "1 35.37972   -120.8611  ... 079        NA          NA               \n",
       "2 35.37910   -120.8601  ... 079        NA          NA               \n",
       "3 35.38612   -120.8751  ... 079        NA          NA               \n",
       "4 35.38647   -120.8751  ... 079        NA          NA               \n",
       "5 35.38683   -120.8751  ... 079        NA          NA               \n",
       "6 35.38575   -120.8751  ... 079        NA          NA               \n",
       "  AquiferTypeName ConstructionDateText WellDepthMeasure.MeasureValue\n",
       "1 NA              NA                   NA                           \n",
       "2 NA              NA                   NA                           \n",
       "3 NA              NA                   NA                           \n",
       "4 NA              NA                   NA                           \n",
       "5 NA              NA                   NA                           \n",
       "6 NA              NA                   NA                           \n",
       "  WellDepthMeasure.MeasureUnitCode WellHoleDepthMeasure.MeasureValue\n",
       "1 NA                               NA                               \n",
       "2 NA                               NA                               \n",
       "3 NA                               NA                               \n",
       "4 NA                               NA                               \n",
       "5 NA                               NA                               \n",
       "6 NA                               NA                               \n",
       "  WellHoleDepthMeasure.MeasureUnitCode ProviderName\n",
       "1 NA                                   STORET      \n",
       "2 NA                                   STORET      \n",
       "3 NA                                   STORET      \n",
       "4 NA                                   STORET      \n",
       "5 NA                                   STORET      \n",
       "6 NA                                   STORET      "
      ]
     },
     "metadata": {},
     "output_type": "display_data"
    }
   ],
   "source": [
    "head(wiSummaryPre)"
   ]
  },
  {
   "cell_type": "code",
   "execution_count": 14,
   "metadata": {
    "collapsed": true
   },
   "outputs": [],
   "source": [
    "#Set the colors and the point sizes\n",
    "col_types <- c(\"darkblue\",\"dodgerblue\",\"green4\",\"gold1\",\"orange\",\"brown\",\"red\") #sets colors\n",
    "leg_vals <- unique(as.numeric(quantile(wiSummaryPre$mean, probs=c(0,0.001,0.01,0.1,0.25,0.5,0.75,0.9,.99,1), na.rm=TRUE)))#sets legend values\n",
    "pal = colorBin(col_types, wiSummaryPre$mean, bins = leg_vals) #creates a color ramp\n",
    "rad <-4*seq(1,4,length.out = 16) #defines the range of values for point sizes\n",
    "wiSummaryPre$sizes <- rad[as.numeric(cut(wiSummaryPre$count, breaks=16))]"
   ]
  },
  {
   "cell_type": "markdown",
   "metadata": {},
   "source": [
    "## Run the leaflet interactive map"
   ]
  },
  {
   "cell_type": "code",
   "execution_count": 16,
   "metadata": {},
   "outputs": [
    {
     "data": {
      "text/html": [
       "<iframe width=\"1000\" height=\"600\" src=\"demo.html\"></iframe>"
      ]
     },
     "metadata": {},
     "output_type": "display_data"
    }
   ],
   "source": [
    "# Leaflet lines need to be run as a group\n",
    "# Put your cursor at the beginning of leaflet and press run to show the map\n",
    "\n",
    "\n",
    "m <- leaflet(data=wiSummaryPre) %>% \n",
    "  addProviderTiles(\"CartoDB.Positron\") %>%\n",
    "  addCircleMarkers(~dec_lon_va,~dec_lat_va,\n",
    "                   fillColor = ~pal(mean),\n",
    "                   radius = ~sizes,\n",
    "                   fillOpacity = 0.8, opacity = 0.8,stroke=FALSE,\n",
    "                   popup=paste(\"Site #\", wiSummaryPre$station_nm, \"<br>\",\"Value:\", wiSummaryPre$mean,\"<br>\",\"Type:\",wiSummaryPre$MonitoringLocationTypeName)) %>%\n",
    "  #popup=~station_nm) %>%\n",
    "  addLegend(position = 'bottomleft',\n",
    "            pal=pal,\n",
    "            values=~mean,\n",
    "            opacity = 0.8,\n",
    "            labFormat = labelFormat(digits = 1), \n",
    "            title = 'Mean Value of pH ')\n",
    "\n",
    "saveWidget(m, 'demo.html', selfcontained = FALSE)\n",
    "display_html('<iframe width=\"1000\" height=\"600\" src=\"demo.html\"></iframe>')\n",
    "\n"
   ]
  },
  {
   "cell_type": "markdown",
   "metadata": {},
   "source": [
    "## What sources of water impact pH in a river? Drainage basin concepts:"
   ]
  },
  {
   "cell_type": "markdown",
   "metadata": {},
   "source": [
    "When rain falls on the landscape, water will drain downward into the soil as a contribution to groundwater recharge, and it will also flow as runoff into the river. The water quality and quantify that we see and measure in a river is a mixture of these waters from runoff and recharge, and reflects a history of chemical conditions and reactions as it moves through or over the soil to the main-stem of the river.\n",
    "\n",
    "When water runs off the burned landscape, it potentially causes debris flows, landslides, and leaches contaminated water into the aquifer and river.\n",
    "\n",
    "This matters because pH is an important indicator of river health and impacts water quality. While young fish and insect larvae are sensitive to a low pH (acid), extreme values on either end of the scale (more basic) can be lethal to orgnaisms and impact biogeochemical cycles in the river and aquifer."
   ]
  },
  {
   "cell_type": "markdown",
   "metadata": {},
   "source": [
    "![Image of Drainage Basin](https://bit.ly/2L2PV1t)"
   ]
  },
  {
   "cell_type": "markdown",
   "metadata": {},
   "source": [
    "## Major Research Questions Remain "
   ]
  },
  {
   "cell_type": "markdown",
   "metadata": {},
   "source": [
    "\n",
    "\n",
    "Question: What are the contributions of surface and groundwater flow to the water qualtiy we measure in the river?\n",
    "\n",
    "Question: How will the fire impact the chemical conditions at other locations throughout the Russian River Watershed?\n",
    "\n",
    "Question: What can our models reveal about how this system will respond to drought conditions? Will we see exagerrated impacts for example, if we get an atmospheric river that drives more runoff from the burned zones?\n",
    "\n"
   ]
  },
  {
   "cell_type": "code",
   "execution_count": null,
   "metadata": {
    "collapsed": true
   },
   "outputs": [],
   "source": [
    "# Thank you!\n",
    "contact: mnewcomer@lbl.gov\n",
    "\n",
    "https://eesa.lbl.gov/profiles/michelle-newcomer/"
   ]
  },
  {
   "cell_type": "code",
   "execution_count": null,
   "metadata": {
    "collapsed": true
   },
   "outputs": [],
   "source": []
  }
 ],
 "metadata": {
  "anaconda-cloud": {},
  "kernelspec": {
   "display_name": "R 3.3",
   "language": "R",
   "name": "ir33"
  },
  "language_info": {
   "codemirror_mode": "r",
   "file_extension": ".r",
   "mimetype": "text/x-r-source",
   "name": "R",
   "pygments_lexer": "r",
   "version": "3.3.3"
  }
 },
 "nbformat": 4,
 "nbformat_minor": 2
}
